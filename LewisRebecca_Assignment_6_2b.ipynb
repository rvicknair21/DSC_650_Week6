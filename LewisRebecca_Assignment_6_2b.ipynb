{
 "cells": [
  {
   "cell_type": "markdown",
   "metadata": {},
   "source": [
    "# Assignment 6.2b\n",
    "## CIFAR10 Classification with dropout and augmentation\n",
    "### Rebecca Lewis"
   ]
  },
  {
   "cell_type": "code",
   "execution_count": 1,
   "metadata": {},
   "outputs": [],
   "source": [
    "from keras.datasets import cifar10\n",
    "from keras.utils import to_categorical\n",
    "from keras.preprocessing.image import ImageDataGenerator\n",
    "\n",
    "(x_train, y_train), (x_test, y_test) = cifar10.load_data()"
   ]
  },
  {
   "cell_type": "code",
   "execution_count": 2,
   "metadata": {},
   "outputs": [
    {
     "data": {
      "text/plain": [
       "((50000, 32, 32, 3), (50000, 1))"
      ]
     },
     "execution_count": 2,
     "metadata": {},
     "output_type": "execute_result"
    }
   ],
   "source": [
    "x_train.shape, y_train.shape"
   ]
  },
  {
   "cell_type": "code",
   "execution_count": 3,
   "metadata": {},
   "outputs": [
    {
     "data": {
      "text/plain": [
       "((10000, 32, 32, 3), (10000, 1))"
      ]
     },
     "execution_count": 3,
     "metadata": {},
     "output_type": "execute_result"
    }
   ],
   "source": [
    "x_test.shape, y_test.shape"
   ]
  },
  {
   "cell_type": "code",
   "execution_count": 4,
   "metadata": {},
   "outputs": [],
   "source": [
    "# Preprocess the data (these are NumPy arrays)\n",
    "x_train = x_train.astype(\"float32\")\n",
    "x_test = x_test.astype(\"float32\")\n",
    "\n",
    "y_train = to_categorical(y_train)\n",
    "y_test = to_categorical(y_test)"
   ]
  },
  {
   "cell_type": "code",
   "execution_count": 5,
   "metadata": {},
   "outputs": [],
   "source": [
    "# Reserve 10,000 samples for validation\n",
    "x_val = x_train[-10000:]\n",
    "y_val = y_train[-10000:]\n",
    "x_train_2 = x_train[:-10000]\n",
    "y_train_2 = y_train[:-10000]"
   ]
  },
  {
   "cell_type": "code",
   "execution_count": 6,
   "metadata": {},
   "outputs": [],
   "source": [
    "train_datagen = ImageDataGenerator(rescale=1./255,\n",
    "                                  rotation_range=40,\n",
    "                                  width_shift_range=0.2,\n",
    "                                  height_shift_range=0.2,\n",
    "                                  shear_range=0.2,\n",
    "                                  zoom_range=0.2,\n",
    "                                  horizontal_flip=True)\n",
    "\n",
    "test_datagen = ImageDataGenerator(rescale=1./255)\n",
    "\n",
    "train_generator = train_datagen.flow(x_train_2, y_train_2,  batch_size=32)\n",
    "\n",
    "validation_generator = train_datagen.flow(x_val, y_val, batch_size=32)\n",
    "\n"
   ]
  },
  {
   "cell_type": "code",
   "execution_count": 7,
   "metadata": {},
   "outputs": [
    {
     "name": "stdout",
     "output_type": "stream",
     "text": [
      "Model: \"sequential\"\n",
      "_________________________________________________________________\n",
      "Layer (type)                 Output Shape              Param #   \n",
      "=================================================================\n",
      "conv2d (Conv2D)              (None, 30, 30, 32)        896       \n",
      "_________________________________________________________________\n",
      "max_pooling2d (MaxPooling2D) (None, 15, 15, 32)        0         \n",
      "_________________________________________________________________\n",
      "conv2d_1 (Conv2D)            (None, 13, 13, 64)        18496     \n",
      "_________________________________________________________________\n",
      "max_pooling2d_1 (MaxPooling2 (None, 6, 6, 64)          0         \n",
      "_________________________________________________________________\n",
      "conv2d_2 (Conv2D)            (None, 4, 4, 64)          36928     \n",
      "_________________________________________________________________\n",
      "max_pooling2d_2 (MaxPooling2 (None, 2, 2, 64)          0         \n",
      "_________________________________________________________________\n",
      "flatten (Flatten)            (None, 256)               0         \n",
      "_________________________________________________________________\n",
      "dropout (Dropout)            (None, 256)               0         \n",
      "_________________________________________________________________\n",
      "dense (Dense)                (None, 64)                16448     \n",
      "_________________________________________________________________\n",
      "dense_1 (Dense)              (None, 10)                650       \n",
      "=================================================================\n",
      "Total params: 73,418\n",
      "Trainable params: 73,418\n",
      "Non-trainable params: 0\n",
      "_________________________________________________________________\n"
     ]
    }
   ],
   "source": [
    "#instantiate the model\n",
    "from keras import models\n",
    "from keras import layers\n",
    "\n",
    "model = models.Sequential()\n",
    "model.add(layers.Conv2D(32, (3,3), activation='relu', input_shape=(32,32,3)))\n",
    "model.add(layers.MaxPooling2D(2,2))\n",
    "model.add(layers.Conv2D(64, (3,3), activation='relu'))\n",
    "model.add(layers.MaxPooling2D(2,2))\n",
    "model.add(layers.Conv2D(64, (3,3), activation='relu'))\n",
    "model.add(layers.MaxPooling2D(2,2))\n",
    "model.add(layers.Flatten())\n",
    "model.add(layers.Dropout(0.5))\n",
    "model.add(layers.Dense(64, activation='relu'))\n",
    "model.add(layers.Dense(10, activation='softmax'))\n",
    "\n",
    "model.summary()"
   ]
  },
  {
   "cell_type": "code",
   "execution_count": 10,
   "metadata": {},
   "outputs": [],
   "source": [
    "from keras import optimizers\n",
    "\n",
    "model.compile(optimizer=optimizers.RMSprop(lr=1e-4),\n",
    "             loss='categorical_crossentropy',\n",
    "             metrics=['accuracy'])"
   ]
  },
  {
   "cell_type": "code",
   "execution_count": 11,
   "metadata": {},
   "outputs": [
    {
     "name": "stdout",
     "output_type": "stream",
     "text": [
      "WARNING:tensorflow:From <ipython-input-11-f55e5816947f>:1: Model.fit_generator (from tensorflow.python.keras.engine.training) is deprecated and will be removed in a future version.\n",
      "Instructions for updating:\n",
      "Please use Model.fit, which supports generators.\n",
      "Epoch 1/30\n",
      "1250/1250 [==============================] - 44s 35ms/step - loss: 2.1454 - accuracy: 0.1874 - val_loss: 1.9897 - val_accuracy: 0.2526\n",
      "Epoch 2/30\n",
      "1250/1250 [==============================] - 43s 35ms/step - loss: 1.9676 - accuracy: 0.2548 - val_loss: 1.8919 - val_accuracy: 0.3018\n",
      "Epoch 3/30\n",
      "1250/1250 [==============================] - 43s 35ms/step - loss: 1.9030 - accuracy: 0.2889 - val_loss: 1.8305 - val_accuracy: 0.3288\n",
      "Epoch 4/30\n",
      "1250/1250 [==============================] - 44s 35ms/step - loss: 1.8506 - accuracy: 0.3101 - val_loss: 1.7836 - val_accuracy: 0.3450\n",
      "Epoch 5/30\n",
      "1250/1250 [==============================] - 43s 35ms/step - loss: 1.8164 - accuracy: 0.3235 - val_loss: 1.7600 - val_accuracy: 0.3562\n",
      "Epoch 6/30\n",
      "1250/1250 [==============================] - 43s 35ms/step - loss: 1.7849 - accuracy: 0.3406 - val_loss: 1.7348 - val_accuracy: 0.3595\n",
      "Epoch 7/30\n",
      "1250/1250 [==============================] - 43s 35ms/step - loss: 1.7588 - accuracy: 0.3508 - val_loss: 1.7096 - val_accuracy: 0.3796\n",
      "Epoch 8/30\n",
      "1250/1250 [==============================] - 43s 35ms/step - loss: 1.7351 - accuracy: 0.3595 - val_loss: 1.6801 - val_accuracy: 0.3849\n",
      "Epoch 9/30\n",
      "1250/1250 [==============================] - 43s 34ms/step - loss: 1.7184 - accuracy: 0.3655 - val_loss: 1.6595 - val_accuracy: 0.3969\n",
      "Epoch 10/30\n",
      "1250/1250 [==============================] - 43s 35ms/step - loss: 1.7000 - accuracy: 0.3766 - val_loss: 1.6349 - val_accuracy: 0.4051\n",
      "Epoch 11/30\n",
      "1250/1250 [==============================] - 43s 34ms/step - loss: 1.6824 - accuracy: 0.3857 - val_loss: 1.6192 - val_accuracy: 0.4073\n",
      "Epoch 12/30\n",
      "1250/1250 [==============================] - 43s 34ms/step - loss: 1.6632 - accuracy: 0.3929 - val_loss: 1.6042 - val_accuracy: 0.4169\n",
      "Epoch 13/30\n",
      "1250/1250 [==============================] - 43s 35ms/step - loss: 1.6462 - accuracy: 0.4001 - val_loss: 1.5920 - val_accuracy: 0.4225\n",
      "Epoch 14/30\n",
      "1250/1250 [==============================] - 43s 35ms/step - loss: 1.6333 - accuracy: 0.4053 - val_loss: 1.5903 - val_accuracy: 0.4230\n",
      "Epoch 15/30\n",
      "1250/1250 [==============================] - 43s 34ms/step - loss: 1.6145 - accuracy: 0.4138 - val_loss: 1.5587 - val_accuracy: 0.4384\n",
      "Epoch 16/30\n",
      "1250/1250 [==============================] - 43s 35ms/step - loss: 1.6035 - accuracy: 0.4203 - val_loss: 1.5533 - val_accuracy: 0.4334\n",
      "Epoch 17/30\n",
      "1250/1250 [==============================] - 43s 35ms/step - loss: 1.5893 - accuracy: 0.4245 - val_loss: 1.5325 - val_accuracy: 0.4459\n",
      "Epoch 18/30\n",
      "1250/1250 [==============================] - 43s 34ms/step - loss: 1.5800 - accuracy: 0.4304 - val_loss: 1.5411 - val_accuracy: 0.4425\n",
      "Epoch 19/30\n",
      "1250/1250 [==============================] - 44s 35ms/step - loss: 1.5646 - accuracy: 0.4368 - val_loss: 1.5550 - val_accuracy: 0.4398\n",
      "Epoch 20/30\n",
      "1250/1250 [==============================] - 43s 35ms/step - loss: 1.5530 - accuracy: 0.4351 - val_loss: 1.4924 - val_accuracy: 0.4705\n",
      "Epoch 21/30\n",
      "1250/1250 [==============================] - 43s 35ms/step - loss: 1.5460 - accuracy: 0.4439 - val_loss: 1.4894 - val_accuracy: 0.4673\n",
      "Epoch 22/30\n",
      "1250/1250 [==============================] - 43s 34ms/step - loss: 1.5381 - accuracy: 0.4447 - val_loss: 1.4784 - val_accuracy: 0.4700\n",
      "Epoch 23/30\n",
      "1250/1250 [==============================] - 44s 35ms/step - loss: 1.5335 - accuracy: 0.4490 - val_loss: 1.4724 - val_accuracy: 0.4791\n",
      "Epoch 24/30\n",
      "1250/1250 [==============================] - 43s 34ms/step - loss: 1.5220 - accuracy: 0.4534 - val_loss: 1.4437 - val_accuracy: 0.4859\n",
      "Epoch 25/30\n",
      "1250/1250 [==============================] - 44s 35ms/step - loss: 1.5128 - accuracy: 0.4588 - val_loss: 1.4715 - val_accuracy: 0.4727\n",
      "Epoch 26/30\n",
      "1250/1250 [==============================] - 43s 34ms/step - loss: 1.5046 - accuracy: 0.4589 - val_loss: 1.4352 - val_accuracy: 0.4897\n",
      "Epoch 27/30\n",
      "1250/1250 [==============================] - 44s 35ms/step - loss: 1.4933 - accuracy: 0.4631 - val_loss: 1.4468 - val_accuracy: 0.4751\n",
      "Epoch 28/30\n",
      "1250/1250 [==============================] - 43s 34ms/step - loss: 1.4878 - accuracy: 0.4632 - val_loss: 1.4368 - val_accuracy: 0.4890\n",
      "Epoch 29/30\n",
      "1250/1250 [==============================] - 43s 35ms/step - loss: 1.4787 - accuracy: 0.4701 - val_loss: 1.3975 - val_accuracy: 0.4982\n",
      "Epoch 30/30\n",
      "1250/1250 [==============================] - 43s 35ms/step - loss: 1.4802 - accuracy: 0.4697 - val_loss: 1.4048 - val_accuracy: 0.4979\n"
     ]
    }
   ],
   "source": [
    "history = model.fit_generator(train_generator,\n",
    "                             steps_per_epoch=len(x_train_2) / 32,\n",
    "                             epochs=30,\n",
    "                             validation_data=validation_generator,\n",
    "                             validation_steps=len(x_val) / 32)"
   ]
  },
  {
   "cell_type": "code",
   "execution_count": 12,
   "metadata": {},
   "outputs": [
    {
     "data": {
      "image/png": "[encoded data removed]",
      "text/plain": [
       "<Figure size 432x288 with 1 Axes>"
      ]
     },
     "metadata": {
      "needs_background": "light"
     },
     "output_type": "display_data"
    },
    {
     "data": {
      "text/plain": [
       "<Figure size 432x288 with 0 Axes>"
      ]
     },
     "metadata": {},
     "output_type": "display_data"
    }
   ],
   "source": [
    "import matplotlib.pyplot as plt\n",
    "\n",
    "train_loss = history.history['loss']\n",
    "val_loss = history.history['val_loss']\n",
    "\n",
    "epochs = range(1, len(history.history['loss']) + 1)\n",
    "\n",
    "plt.plot(epochs, train_loss, 'bo', label='Training loss')\n",
    "plt.plot(epochs, val_loss, 'b', label='Validation loss')\n",
    "plt.title('Training and Validation Losses')\n",
    "plt.xlabel('Epochs')\n",
    "plt.ylabel('Loss')\n",
    "plt.legend()\n",
    "\n",
    "plt.show()\n",
    "plt.savefig('results/lewisrebecca_6_2b_lossplot.png')"
   ]
  },
  {
   "cell_type": "code",
   "execution_count": 13,
   "metadata": {},
   "outputs": [
    {
     "data": {
      "image/png": "[encoded data removed]",
      "text/plain": [
       "<Figure size 432x288 with 1 Axes>"
      ]
     },
     "metadata": {
      "needs_background": "light"
     },
     "output_type": "display_data"
    },
    {
     "data": {
      "text/plain": [
       "<Figure size 432x288 with 0 Axes>"
      ]
     },
     "metadata": {},
     "output_type": "display_data"
    }
   ],
   "source": [
    "import matplotlib.pyplot as plt\n",
    "\n",
    "train_loss = history.history['accuracy']\n",
    "val_loss = history.history['val_accuracy']\n",
    "\n",
    "epochs = range(1, len(history.history['accuracy']) + 1)\n",
    "\n",
    "plt.plot(epochs, train_loss, 'bo', label='Training accuracy')\n",
    "plt.plot(epochs, val_loss, 'b', label='Validation accuracy')\n",
    "plt.title('Training and Validation Accuracy')\n",
    "plt.xlabel('Epochs')\n",
    "plt.ylabel('Accuracy')\n",
    "plt.legend()\n",
    "\n",
    "plt.show()\n",
    "plt.savefig('results/lewisrebecca_6_2b_accplot.png')"
   ]
  },
  {
   "cell_type": "code",
   "execution_count": 15,
   "metadata": {},
   "outputs": [
    {
     "name": "stdout",
     "output_type": "stream",
     "text": [
      "Epoch 1/16\n",
      "1563/1562 [==============================] - 45s 28ms/step - loss: 1.8227 - accuracy: 0.3193\n",
      "Epoch 2/16\n",
      "1563/1562 [==============================] - 45s 29ms/step - loss: 1.5316 - accuracy: 0.4512\n",
      "Epoch 3/16\n",
      "1563/1562 [==============================] - 44s 28ms/step - loss: 1.4854 - accuracy: 0.4687\n",
      "Epoch 4/16\n",
      "1563/1562 [==============================] - 44s 28ms/step - loss: 1.4678 - accuracy: 0.4754\n",
      "Epoch 5/16\n",
      "1563/1562 [==============================] - 44s 28ms/step - loss: 1.4525 - accuracy: 0.4810\n",
      "Epoch 6/16\n",
      "1563/1562 [==============================] - 44s 28ms/step - loss: 1.4461 - accuracy: 0.4840\n",
      "Epoch 7/16\n",
      "1563/1562 [==============================] - 45s 29ms/step - loss: 1.4384 - accuracy: 0.4863\n",
      "Epoch 8/16\n",
      "1563/1562 [==============================] - 44s 28ms/step - loss: 1.4299 - accuracy: 0.4907\n",
      "Epoch 9/16\n",
      "1563/1562 [==============================] - 44s 28ms/step - loss: 1.4221 - accuracy: 0.4913\n",
      "Epoch 10/16\n",
      "1563/1562 [==============================] - 44s 28ms/step - loss: 1.4192 - accuracy: 0.4959\n",
      "Epoch 11/16\n",
      "1563/1562 [==============================] - 45s 28ms/step - loss: 1.4092 - accuracy: 0.4982\n",
      "Epoch 12/16\n",
      "1563/1562 [==============================] - 44s 28ms/step - loss: 1.4009 - accuracy: 0.5009\n",
      "Epoch 13/16\n",
      "1563/1562 [==============================] - 45s 28ms/step - loss: 1.3988 - accuracy: 0.5039\n",
      "Epoch 14/16\n",
      "1563/1562 [==============================] - 44s 28ms/step - loss: 1.3878 - accuracy: 0.5077\n",
      "Epoch 15/16\n",
      "1563/1562 [==============================] - 44s 28ms/step - loss: 1.3875 - accuracy: 0.5064\n",
      "Epoch 16/16\n",
      "1563/1562 [==============================] - 45s 29ms/step - loss: 1.3832 - accuracy: 0.5082\n",
      "313/313 [==============================] - 1s 4ms/step - loss: 251.8617 - accuracy: 0.3811\n"
     ]
    }
   ],
   "source": [
    "#retrain the model and evaluate on test\n",
    "train_generator = train_datagen.flow(x_train, y_train,  batch_size=32)\n",
    "\n",
    "model.compile(optimizer=optimizers.RMSprop(lr=1e-4),\n",
    "             loss='categorical_crossentropy',\n",
    "             metrics=['accuracy'])\n",
    "\n",
    "#16 epochs chosen based on graphs above\n",
    "history = model.fit_generator(train_generator,\n",
    "                             steps_per_epoch=len(x_train) / 32,\n",
    "                             epochs=16)\n",
    "results = model.evaluate(x_test, y_test)"
   ]
  },
  {
   "cell_type": "code",
   "execution_count": 16,
   "metadata": {},
   "outputs": [],
   "source": [
    "model.save('results/lewisrebecca_6_2b_model.h5')"
   ]
  },
  {
   "cell_type": "code",
   "execution_count": 17,
   "metadata": {},
   "outputs": [],
   "source": [
    "prediction_results = model.predict(x_test)"
   ]
  },
  {
   "cell_type": "code",
   "execution_count": 18,
   "metadata": {},
   "outputs": [],
   "source": [
    "#write metrics to file\n",
    "with open('results/lewisrebecca_6_2b_metrics.txt', 'w') as f:\n",
    "    f.write('Training Loss: {}'.format(str(history.history['loss'])))\n",
    "    f.write('\\nTraining Accuracy: {}'.format(str(history.history['accuracy'])))\n",
    "    f.write('\\nTest Loss: {}'.format(results[0]))\n",
    "    f.write('\\nTest Accuracy: {}'.format(results[1]))"
   ]
  },
  {
   "cell_type": "code",
   "execution_count": 19,
   "metadata": {},
   "outputs": [],
   "source": [
    "import pandas as pd\n",
    "\n",
    "predictions = pd.DataFrame(prediction_results, columns=['0','1','2','3','4','5','6','7','8','9'])\n",
    "predictions.to_csv('results/lewisrebecca_6_2b_predictions.csv', index=False)"
   ]
  },
  {
   "cell_type": "code",
   "execution_count": null,
   "metadata": {},
   "outputs": [],
   "source": []
  }
 ],
 "metadata": {
  "kernelspec": {
   "display_name": "Python 3",
   "language": "python",
   "name": "python3"
  },
  "language_info": {
   "codemirror_mode": {
    "name": "ipython",
    "version": 3
   },
   "file_extension": ".py",
   "mimetype": "text/x-python",
   "name": "python",
   "nbconvert_exporter": "python",
   "pygments_lexer": "ipython3",
   "version": "3.8.3"
  }
 },
 "nbformat": 4,
 "nbformat_minor": 4
}
